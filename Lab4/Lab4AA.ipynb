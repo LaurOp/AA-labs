{
  "nbformat": 4,
  "nbformat_minor": 0,
  "metadata": {
    "colab": {
      "name": "Lab4AA.ipynb",
      "provenance": [],
      "collapsed_sections": []
    },
    "kernelspec": {
      "name": "python3",
      "display_name": "Python 3"
    },
    "language_info": {
      "name": "python"
    }
  },
  "cells": [
    {
      "cell_type": "markdown",
      "source": [
        "Carpenter problem\n",
        "\n",
        "*   max (180x + 200y)\n",
        "*   5x + 4y ≤ 80\n",
        "*   10x + 20y ≤ 200\n",
        "*   x ≥ 0\n",
        "*   y ≥ 0\n",
        "\n"
      ],
      "metadata": {
        "id": "AwybAoX11Zc7"
      }
    },
    {
      "cell_type": "code",
      "execution_count": null,
      "metadata": {
        "colab": {
          "base_uri": "https://localhost:8080/"
        },
        "id": "Cven_9NmzfXA",
        "outputId": "fe265b4c-4b68-4115-8c3c-c35e7bfcd52b"
      },
      "outputs": [
        {
          "output_type": "stream",
          "name": "stdout",
          "text": [
            "[13, 3]\n"
          ]
        }
      ],
      "source": [
        "from scipy.optimize import linprog\n",
        "import math\n",
        "obj = [-180, -200]  # cu minim pt a maximiza\n",
        "\n",
        "ineq_left = [[5, 4],\n",
        "            [10, 20]]\n",
        "\n",
        "ineq_right = [80,\n",
        "              200]\n",
        "\n",
        "boundsXY = [(0, float('inf')),  # x\n",
        "          (0, float('inf'))]  # y\n",
        "\n",
        "\n",
        "opt = linprog(c=obj, A_ub=ineq_left, b_ub=ineq_right, bounds=boundsXY, method='revised simplex')\n",
        "\n",
        "lista = opt.x\n",
        "lista = [math.floor(x) for x in opt.x]\n",
        "\n",
        "print(lista)"
      ]
    },
    {
      "cell_type": "markdown",
      "source": [
        "3-CNF Problem\n",
        "\n",
        "Pentru (x1 ∨ x2 ∨ x4) ∧ (x1 ∨ x3 ∨ x5) ∧ (x2 ∨ x4 ∨ x5)\n",
        "\n",
        "Programul liniar:\n",
        "\n",
        "* min x1 + x2 + x3 + x4 + x5\n",
        "* x1 + x2 + x4 ≥ 1\n",
        "* x1 + x3 + x5 ≥ 1\n",
        "* x2 + x4 + x5 ≥ 1\n",
        "* 0 ≤ x1 ≤ 1\n",
        "* 0 ≤ x2 ≤ 1\n",
        "* 0 ≤ x3 ≤ 1\n",
        "* 0 ≤ x4 ≤ 1\n",
        "* 0 ≤ x5 ≤ 1"
      ],
      "metadata": {
        "id": "mzFyurNO4dld"
      }
    },
    {
      "cell_type": "code",
      "source": [
        "from scipy.optimize import linprog\n",
        "import math\n",
        "\n",
        "obj = [1,1,1,1,1] # cand fac minim e ok sa le las cu 1, la max le vreau negate\n",
        "\n",
        "ineq_left = [[-1, -1, 0, -1, 0],  # negate pt ca el aplica less than\n",
        "            [-1, 0, -1, 0, -1],\n",
        "            [0, -1, 0, -1, -1]]\n",
        "\n",
        "ineq_right = [-1,\n",
        "              -1,\n",
        "              -1]\n",
        "\n",
        "boundsXY = [(0, 1),  # x1\n",
        "          (0, 1), # x3\n",
        "          (0,1),  # x3\n",
        "          (0,1),  # x4\n",
        "          (0,1)]  # x5\n",
        "\n",
        "rez = linprog(c=obj, A_ub=ineq_left, b_ub=ineq_right, bounds=boundsXY, method='revised simplex')\n",
        "rez = [False if x < 1/3 else True for x in rez.x]\n",
        "\n",
        "print(rez)  # Solutie 3-aproximativa\n"
      ],
      "metadata": {
        "colab": {
          "base_uri": "https://localhost:8080/"
        },
        "id": "nJRrpT7e5AN3",
        "outputId": "4b21b265-1951-4dff-9910-75668ad7dd21"
      },
      "execution_count": null,
      "outputs": [
        {
          "output_type": "stream",
          "name": "stdout",
          "text": [
            "[True, True, False, False, True]\n"
          ]
        }
      ]
    }
  ]
}